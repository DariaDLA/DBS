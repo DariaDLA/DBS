{
 "cells": [
  {
   "cell_type": "code",
   "execution_count": 1,
   "metadata": {},
   "outputs": [],
   "source": [
    "\n",
    "import sys"
   ]
  },
  {
   "cell_type": "code",
   "execution_count": 2,
   "metadata": {},
   "outputs": [
    {
     "name": "stdout",
     "output_type": "stream",
     "text": [
      "Requirement already satisfied: pyexistdb in c:\\programdata\\anaconda3\\lib\\site-packages (1.0.1)\n",
      "Requirement already satisfied: requests in c:\\programdata\\anaconda3\\lib\\site-packages (from pyexistdb) (2.22.0)\n",
      "Requirement already satisfied: eulxml>=1.1.3 in c:\\programdata\\anaconda3\\lib\\site-packages (from pyexistdb) (1.1.3)\n",
      "Requirement already satisfied: urllib3!=1.25.0,!=1.25.1,<1.26,>=1.21.1 in c:\\programdata\\anaconda3\\lib\\site-packages (from requests->pyexistdb) (1.24.2)\n",
      "Requirement already satisfied: chardet<3.1.0,>=3.0.2 in c:\\programdata\\anaconda3\\lib\\site-packages (from requests->pyexistdb) (3.0.4)\n",
      "Requirement already satisfied: certifi>=2017.4.17 in c:\\programdata\\anaconda3\\lib\\site-packages (from requests->pyexistdb) (2019.6.16)\n",
      "Requirement already satisfied: idna<2.9,>=2.5 in c:\\programdata\\anaconda3\\lib\\site-packages (from requests->pyexistdb) (2.8)\n",
      "Requirement already satisfied: lxml>=3.4 in c:\\programdata\\anaconda3\\lib\\site-packages (from eulxml>=1.1.3->pyexistdb) (4.3.4)\n",
      "Requirement already satisfied: ply>=3.8 in c:\\programdata\\anaconda3\\lib\\site-packages (from eulxml>=1.1.3->pyexistdb) (3.11)\n",
      "Requirement already satisfied: six>=1.10 in c:\\programdata\\anaconda3\\lib\\site-packages (from eulxml>=1.1.3->pyexistdb) (1.12.0)\n"
     ]
    }
   ],
   "source": [
    "!{sys.executable} -m pip install pyexistdb"
   ]
  },
  {
   "cell_type": "code",
   "execution_count": 3,
   "metadata": {},
   "outputs": [],
   "source": [
    "from pyexistdb import db"
   ]
  },
  {
   "cell_type": "code",
   "execution_count": 4,
   "metadata": {},
   "outputs": [],
   "source": [
    "urlexist = \"http://192.168.38.2:8080/exist/\""
   ]
  },
  {
   "cell_type": "code",
   "execution_count": 5,
   "metadata": {},
   "outputs": [],
   "source": [
    "db = db.ExistDB(urlexist)"
   ]
  },
  {
   "cell_type": "code",
   "execution_count": 6,
   "metadata": {},
   "outputs": [],
   "source": [
    "# funktioniert nicht\n",
    "xquery = '''\n",
    "let $x:= doc(\"/db/employment/Uebung1.xml\")/*\n",
    "return $x/gemeinde/node()'''"
   ]
  },
  {
   "cell_type": "code",
   "execution_count": 13,
   "metadata": {},
   "outputs": [],
   "source": [
    "# namespace definieren\n",
    "# self-employment women to total empl\n",
    "xquery = '''\n",
    "declare namespace ns = \"file:///C:/eXist-db/etc/webapp/WEB-INF/entities/Uebung1.xsd\";\n",
    "let $gemeinden := doc('/db/employment/Uebung1.xml')/*\n",
    "for $x in $gemeinden/ns:gemeinde\n",
    "order by $x/ns:women/ns:SELF_EMPL_W div $x/ns:total/ns:EMPL_TOTAL descending\n",
    "return (data($x/@LAU_NAME), $x/ns:women/ns:SELF_EMPL_W div $x/ns:total/ns:EMPL_TOTAL)'''"
   ]
  },
  {
   "cell_type": "code",
   "execution_count": 6,
   "metadata": {},
   "outputs": [],
   "source": [
    "# namespace definieren\n",
    "xquery = '''\n",
    "declare namespace ns = \"file:///C:/eXist-db/etc/webapp/WEB-INF/entities/Uebung1.xsd\";\n",
    "let $gemeinden := doc('/db/employment/Uebung1.xml')/*\n",
    "for $x in $gemeinden/ns:gemeinde\n",
    "return (data($x/@LAU_NAME), data($x/ns:total/ns:EMPL_TOTAL))'''"
   ]
  },
  {
   "cell_type": "code",
   "execution_count": 132,
   "metadata": {},
   "outputs": [],
   "source": [
    "# namespace definieren\n",
    "# women temp absent by district\n",
    "xquery = '''\n",
    "declare namespace ns = \"file:///C:/eXist-db/etc/webapp/WEB-INF/entities/Uebung1.xsd\";\n",
    "let $gemeinden := doc('/db/employment/Uebung1.xml')/*\n",
    "for $x in $gemeinden/ns:gemeinde\n",
    "\n",
    "let $d := $x/ns:info/ns:DISTRICT_NAME\n",
    "let $w := $x/ns:women/ns:TEMP_ABSENT_W\n",
    "\n",
    "group by $d\n",
    "order by sum($w) descending\n",
    "return (data($d), data(sum($w)))'''"
   ]
  },
  {
   "cell_type": "code",
   "execution_count": 133,
   "metadata": {},
   "outputs": [],
   "source": [
    "res = db.executeQuery(xquery)\n",
    "hits = db.getHits(res)"
   ]
  },
  {
   "cell_type": "code",
   "execution_count": 80,
   "metadata": {
    "scrolled": true
   },
   "outputs": [
    {
     "data": {
      "text/plain": [
       "13"
      ]
     },
     "execution_count": 80,
     "metadata": {},
     "output_type": "execute_result"
    }
   ],
   "source": [
    "hits"
   ]
  },
  {
   "cell_type": "code",
   "execution_count": 81,
   "metadata": {},
   "outputs": [
    {
     "data": {
      "text/plain": [
       "17"
      ]
     },
     "execution_count": 81,
     "metadata": {},
     "output_type": "execute_result"
    }
   ],
   "source": [
    "res"
   ]
  },
  {
   "cell_type": "code",
   "execution_count": 134,
   "metadata": {},
   "outputs": [
    {
     "name": "stdout",
     "output_type": "stream",
     "text": [
      "Graz-Stadt\n",
      "2586\n",
      "Graz-Umgebung\n",
      "1579\n",
      "Weiz\n",
      "999\n",
      "Hartberg-F rstenfeld\n",
      "921\n",
      "S doststeiermark\n",
      "835\n",
      "Leibnitz\n",
      "832\n",
      "Bruck-M rzzuschlag\n",
      "794\n",
      "Liezen\n",
      "756\n",
      "Murtal\n",
      "567\n",
      "Deutschlandsberg\n",
      "543\n",
      "Leoben\n",
      "445\n",
      "Voitsberg\n",
      "402\n",
      "Murau\n",
      "252\n"
     ]
    }
   ],
   "source": [
    "for i in range(hits):\n",
    "    print(str(db.retrieve(res,i)))"
   ]
  },
  {
   "cell_type": "code",
   "execution_count": null,
   "metadata": {},
   "outputs": [],
   "source": []
  }
 ],
 "metadata": {
  "kernelspec": {
   "display_name": "Python 3",
   "language": "python",
   "name": "python3"
  },
  "language_info": {
   "codemirror_mode": {
    "name": "ipython",
    "version": 3
   },
   "file_extension": ".py",
   "mimetype": "text/x-python",
   "name": "python",
   "nbconvert_exporter": "python",
   "pygments_lexer": "ipython3",
   "version": "3.7.3"
  }
 },
 "nbformat": 4,
 "nbformat_minor": 2
}
